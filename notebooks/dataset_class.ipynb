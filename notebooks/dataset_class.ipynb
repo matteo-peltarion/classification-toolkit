{
 "cells": [
  {
   "cell_type": "code",
   "execution_count": 155,
   "metadata": {},
   "outputs": [],
   "source": [
    "%reload_ext autoreload\n",
    "%autoreload 2"
   ]
  },
  {
   "cell_type": "markdown",
   "metadata": {},
   "source": [
    "## Imports"
   ]
  },
  {
   "cell_type": "code",
   "execution_count": 156,
   "metadata": {},
   "outputs": [],
   "source": [
    "import sys"
   ]
  },
  {
   "cell_type": "code",
   "execution_count": 157,
   "metadata": {},
   "outputs": [],
   "source": [
    "sys.path.append(\"..\")"
   ]
  },
  {
   "cell_type": "code",
   "execution_count": 158,
   "metadata": {},
   "outputs": [],
   "source": [
    "import pandas as pd"
   ]
  },
  {
   "cell_type": "code",
   "execution_count": 159,
   "metadata": {},
   "outputs": [],
   "source": [
    "import matplotlib.pyplot as plt"
   ]
  },
  {
   "cell_type": "code",
   "execution_count": 160,
   "metadata": {},
   "outputs": [],
   "source": [
    "from torch.utils.data.dataloader import DataLoader\n",
    "from torch.utils.data import WeightedRandomSampler"
   ]
  },
  {
   "cell_type": "code",
   "execution_count": 161,
   "metadata": {},
   "outputs": [],
   "source": [
    "from lib.dataset import HAM10000, create_train_val_split, read_meta_data"
   ]
  },
  {
   "cell_type": "markdown",
   "metadata": {},
   "source": [
    "## Folders"
   ]
  },
  {
   "cell_type": "code",
   "execution_count": 162,
   "metadata": {},
   "outputs": [],
   "source": [
    "DATA_FOLDER = \"../data\"\n",
    "# ANNOTATION_FILE_NAME = \"HAM10000_metadata.csv\"\n",
    "LABEL_COLUMN = 'dx'"
   ]
  },
  {
   "cell_type": "markdown",
   "metadata": {},
   "source": [
    "## Main"
   ]
  },
  {
   "cell_type": "code",
   "execution_count": 163,
   "metadata": {},
   "outputs": [],
   "source": [
    "# Get training ids and validation ids\n",
    "train_ids, val_ids = create_train_val_split(DATA_FOLDER, 0.8, 0.2)"
   ]
  },
  {
   "cell_type": "code",
   "execution_count": 164,
   "metadata": {},
   "outputs": [
    {
     "name": "stdout",
     "output_type": "stream",
     "text": [
      "Samples in training set: 8010\n",
      "Samples in validation set: 2005\n",
      "Total samples: 10015\n"
     ]
    }
   ],
   "source": [
    "print(\"Samples in training set: {}\".format(len(train_ids)))\n",
    "print(\"Samples in validation set: {}\".format(len(val_ids)))\n",
    "\n",
    "n_samples_total = len(val_ids) + len(train_ids)\n",
    "\n",
    "print(\"Total samples: {}\".format(n_samples_total))\n",
    "\n",
    "# Sanity checks: union must be equal to total, intersection must be 0\n",
    "assert (len(set(val_ids).union(set(train_ids))) == n_samples_total)\n",
    "assert (len(set(val_ids).intersection(set(train_ids))) == 0)"
   ]
  },
  {
   "cell_type": "markdown",
   "metadata": {},
   "source": [
    "### Plot distributions in sets"
   ]
  },
  {
   "cell_type": "code",
   "execution_count": 165,
   "metadata": {},
   "outputs": [],
   "source": [
    "data_df = read_meta_data(DATA_FOLDER)\n",
    "\n",
    "data_train = data_df.loc[train_ids]\n",
    "data_val = data_df.loc[val_ids]"
   ]
  },
  {
   "cell_type": "markdown",
   "metadata": {},
   "source": [
    "#### Training set"
   ]
  },
  {
   "cell_type": "code",
   "execution_count": 166,
   "metadata": {},
   "outputs": [
    {
     "data": {
      "text/plain": [
       "<matplotlib.axes._subplots.AxesSubplot at 0x7f671c4487b8>"
      ]
     },
     "execution_count": 166,
     "metadata": {},
     "output_type": "execute_result"
    },
    {
     "data": {
      "image/png": "[encoded data removed]",
      "text/plain": [
       "<Figure size 1080x576 with 1 Axes>"
      ]
     },
     "metadata": {
      "needs_background": "light"
     },
     "output_type": "display_data"
    }
   ],
   "source": [
    "plt.figure(figsize=(15,8))\n",
    "data_train.groupby(LABEL_COLUMN).count()['sex'].sort_values().plot(kind='bar', color=\"#ff7043\")"
   ]
  },
  {
   "cell_type": "markdown",
   "metadata": {},
   "source": [
    "#### Validation set"
   ]
  },
  {
   "cell_type": "code",
   "execution_count": 167,
   "metadata": {},
   "outputs": [
    {
     "data": {
      "text/plain": [
       "<matplotlib.axes._subplots.AxesSubplot at 0x7f671c1a3470>"
      ]
     },
     "execution_count": 167,
     "metadata": {},
     "output_type": "execute_result"
    },
    {
     "data": {
      "image/png": "[encoded data removed]",
      "text/plain": [
       "<Figure size 1080x576 with 1 Axes>"
      ]
     },
     "metadata": {
      "needs_background": "light"
     },
     "output_type": "display_data"
    }
   ],
   "source": [
    "plt.figure(figsize=(15,8))\n",
    "data_val.groupby(LABEL_COLUMN).count()['sex'].sort_values().plot(kind='bar', color='#0f9d58')"
   ]
  },
  {
   "cell_type": "code",
   "execution_count": 168,
   "metadata": {},
   "outputs": [],
   "source": [
    "dataset_train = HAM10000(DATA_FOLDER, train_ids)"
   ]
  },
  {
   "cell_type": "code",
   "execution_count": 169,
   "metadata": {},
   "outputs": [
    {
     "data": {
      "text/html": [
       "<div>\n",
       "<style scoped>\n",
       "    .dataframe tbody tr th:only-of-type {\n",
       "        vertical-align: middle;\n",
       "    }\n",
       "\n",
       "    .dataframe tbody tr th {\n",
       "        vertical-align: top;\n",
       "    }\n",
       "\n",
       "    .dataframe thead th {\n",
       "        text-align: right;\n",
       "    }\n",
       "</style>\n",
       "<table border=\"1\" class=\"dataframe\">\n",
       "  <thead>\n",
       "    <tr style=\"text-align: right;\">\n",
       "      <th></th>\n",
       "      <th>lesion_id</th>\n",
       "      <th>dx</th>\n",
       "      <th>dx_type</th>\n",
       "      <th>age</th>\n",
       "      <th>sex</th>\n",
       "      <th>localization</th>\n",
       "    </tr>\n",
       "    <tr>\n",
       "      <th>image_id</th>\n",
       "      <th></th>\n",
       "      <th></th>\n",
       "      <th></th>\n",
       "      <th></th>\n",
       "      <th></th>\n",
       "      <th></th>\n",
       "    </tr>\n",
       "  </thead>\n",
       "  <tbody>\n",
       "    <tr>\n",
       "      <td>ISIC_0031929</td>\n",
       "      <td>HAM_0001499</td>\n",
       "      <td>akiec</td>\n",
       "      <td>histo</td>\n",
       "      <td>65.0</td>\n",
       "      <td>male</td>\n",
       "      <td>lower extremity</td>\n",
       "    </tr>\n",
       "    <tr>\n",
       "      <td>ISIC_0030785</td>\n",
       "      <td>HAM_0004609</td>\n",
       "      <td>akiec</td>\n",
       "      <td>histo</td>\n",
       "      <td>75.0</td>\n",
       "      <td>male</td>\n",
       "      <td>back</td>\n",
       "    </tr>\n",
       "    <tr>\n",
       "      <td>ISIC_0028816</td>\n",
       "      <td>HAM_0003123</td>\n",
       "      <td>akiec</td>\n",
       "      <td>histo</td>\n",
       "      <td>60.0</td>\n",
       "      <td>male</td>\n",
       "      <td>face</td>\n",
       "    </tr>\n",
       "    <tr>\n",
       "      <td>ISIC_0025790</td>\n",
       "      <td>HAM_0001004</td>\n",
       "      <td>akiec</td>\n",
       "      <td>histo</td>\n",
       "      <td>75.0</td>\n",
       "      <td>female</td>\n",
       "      <td>lower extremity</td>\n",
       "    </tr>\n",
       "    <tr>\n",
       "      <td>ISIC_0026702</td>\n",
       "      <td>HAM_0005228</td>\n",
       "      <td>akiec</td>\n",
       "      <td>histo</td>\n",
       "      <td>80.0</td>\n",
       "      <td>female</td>\n",
       "      <td>face</td>\n",
       "    </tr>\n",
       "    <tr>\n",
       "      <td>...</td>\n",
       "      <td>...</td>\n",
       "      <td>...</td>\n",
       "      <td>...</td>\n",
       "      <td>...</td>\n",
       "      <td>...</td>\n",
       "      <td>...</td>\n",
       "    </tr>\n",
       "    <tr>\n",
       "      <td>ISIC_0028885</td>\n",
       "      <td>HAM_0005427</td>\n",
       "      <td>vasc</td>\n",
       "      <td>consensus</td>\n",
       "      <td>75.0</td>\n",
       "      <td>male</td>\n",
       "      <td>back</td>\n",
       "    </tr>\n",
       "    <tr>\n",
       "      <td>ISIC_0027856</td>\n",
       "      <td>HAM_0007118</td>\n",
       "      <td>vasc</td>\n",
       "      <td>consensus</td>\n",
       "      <td>45.0</td>\n",
       "      <td>female</td>\n",
       "      <td>trunk</td>\n",
       "    </tr>\n",
       "    <tr>\n",
       "      <td>ISIC_0025452</td>\n",
       "      <td>HAM_0004257</td>\n",
       "      <td>vasc</td>\n",
       "      <td>consensus</td>\n",
       "      <td>55.0</td>\n",
       "      <td>female</td>\n",
       "      <td>abdomen</td>\n",
       "    </tr>\n",
       "    <tr>\n",
       "      <td>ISIC_0032545</td>\n",
       "      <td>HAM_0004776</td>\n",
       "      <td>vasc</td>\n",
       "      <td>histo</td>\n",
       "      <td>45.0</td>\n",
       "      <td>female</td>\n",
       "      <td>chest</td>\n",
       "    </tr>\n",
       "    <tr>\n",
       "      <td>ISIC_0032932</td>\n",
       "      <td>HAM_0002498</td>\n",
       "      <td>vasc</td>\n",
       "      <td>consensus</td>\n",
       "      <td>70.0</td>\n",
       "      <td>male</td>\n",
       "      <td>back</td>\n",
       "    </tr>\n",
       "  </tbody>\n",
       "</table>\n",
       "<p>8010 rows × 6 columns</p>\n",
       "</div>"
      ],
      "text/plain": [
       "                lesion_id     dx    dx_type   age     sex     localization\n",
       "image_id                                                                  \n",
       "ISIC_0031929  HAM_0001499  akiec      histo  65.0    male  lower extremity\n",
       "ISIC_0030785  HAM_0004609  akiec      histo  75.0    male             back\n",
       "ISIC_0028816  HAM_0003123  akiec      histo  60.0    male             face\n",
       "ISIC_0025790  HAM_0001004  akiec      histo  75.0  female  lower extremity\n",
       "ISIC_0026702  HAM_0005228  akiec      histo  80.0  female             face\n",
       "...                   ...    ...        ...   ...     ...              ...\n",
       "ISIC_0028885  HAM_0005427   vasc  consensus  75.0    male             back\n",
       "ISIC_0027856  HAM_0007118   vasc  consensus  45.0  female            trunk\n",
       "ISIC_0025452  HAM_0004257   vasc  consensus  55.0  female          abdomen\n",
       "ISIC_0032545  HAM_0004776   vasc      histo  45.0  female            chest\n",
       "ISIC_0032932  HAM_0002498   vasc  consensus  70.0    male             back\n",
       "\n",
       "[8010 rows x 6 columns]"
      ]
     },
     "execution_count": 169,
     "metadata": {},
     "output_type": "execute_result"
    }
   ],
   "source": [
    "data_train"
   ]
  },
  {
   "cell_type": "markdown",
   "metadata": {},
   "source": [
    "### Data loading"
   ]
  },
  {
   "cell_type": "code",
   "execution_count": 170,
   "metadata": {},
   "outputs": [],
   "source": [
    "weights = dataset_train.make_weights_for_balanced_classes()"
   ]
  },
  {
   "cell_type": "code",
   "execution_count": 171,
   "metadata": {},
   "outputs": [
    {
     "data": {
      "text/plain": [
       "[30.689655172413794,\n",
       " 19.48905109489051,\n",
       " 9.112627986348123,\n",
       " 87.06521739130434,\n",
       " 9.0,\n",
       " 1.4932885906040267,\n",
       " 70.88495575221239]"
      ]
     },
     "execution_count": 171,
     "metadata": {},
     "output_type": "execute_result"
    }
   ],
   "source": [
    "dataset_train._weight_per_class"
   ]
  },
  {
   "cell_type": "code",
   "execution_count": 172,
   "metadata": {},
   "outputs": [],
   "source": [
    "BATCH_SIZE = 4"
   ]
  },
  {
   "cell_type": "code",
   "execution_count": 173,
   "metadata": {},
   "outputs": [],
   "source": [
    "sampler = WeightedRandomSampler(weights, len(weights))\n",
    "\n",
    "dataloader_train = DataLoader(dataset_train, BATCH_SIZE, sampler=sampler, num_workers=4)"
   ]
  },
  {
   "cell_type": "code",
   "execution_count": 174,
   "metadata": {},
   "outputs": [],
   "source": [
    "from tqdm import tqdm"
   ]
  },
  {
   "cell_type": "code",
   "execution_count": 175,
   "metadata": {},
   "outputs": [
    {
     "name": "stderr",
     "output_type": "stream",
     "text": [
      " 96%|█████████▌| 96/100 [00:02<00:00, 43.39it/s]\n"
     ]
    }
   ],
   "source": [
    "i = 0\n",
    "\n",
    "counts = [0] * 7\n",
    "\n",
    "SAMPLE_ITERATIONS = 100\n",
    "\n",
    "for data, target in tqdm(dataloader_train, total=SAMPLE_ITERATIONS):\n",
    "    if i >= SAMPLE_ITERATIONS:\n",
    "        break\n",
    "        \n",
    "    for c in target:\n",
    "        counts[c] += 1\n",
    "    \n",
    "    i += 1"
   ]
  },
  {
   "cell_type": "code",
   "execution_count": 176,
   "metadata": {},
   "outputs": [
    {
     "name": "stdout",
     "output_type": "stream",
     "text": [
      "# of samples for class akiec:\t54\n",
      "# of samples for class bcc:\t46\n",
      "# of samples for class bkl:\t59\n",
      "# of samples for class df:\t73\n",
      "# of samples for class mel:\t60\n",
      "# of samples for class nv:\t52\n",
      "# of samples for class vasc:\t56\n"
     ]
    }
   ],
   "source": [
    "for i, c in enumerate(dataset_train.get_class_map_dict()):\n",
    "    print(\"# of samples for class {}:\\t{}\".format(c, counts[i]))"
   ]
  },
  {
   "cell_type": "code",
   "execution_count": 177,
   "metadata": {},
   "outputs": [],
   "source": [
    "# Sanity check on results\n",
    "assert(sum(counts) == BATCH_SIZE * SAMPLE_ITERATIONS)"
   ]
  },
  {
   "cell_type": "code",
   "execution_count": null,
   "metadata": {},
   "outputs": [],
   "source": []
  }
 ],
 "metadata": {
  "kernelspec": {
   "display_name": "Python 3",
   "language": "python",
   "name": "python3"
  },
  "language_info": {
   "codemirror_mode": {
    "name": "ipython",
    "version": 3
   },
   "file_extension": ".py",
   "mimetype": "text/x-python",
   "name": "python",
   "nbconvert_exporter": "python",
   "pygments_lexer": "ipython3",
   "version": "3.6.9"
  }
 },
 "nbformat": 4,
 "nbformat_minor": 2
}
