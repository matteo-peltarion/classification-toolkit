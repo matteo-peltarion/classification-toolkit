{
 "cells": [
  {
   "cell_type": "markdown",
   "metadata": {
    "slideshow": {
     "slide_type": "slide"
    }
   },
   "source": [
    "# Classifying skin lesions using a convnet"
   ]
  },
  {
   "cell_type": "markdown",
   "metadata": {},
   "source": [
    "The goal of this assignment is to design and implement \n",
    "\n",
    "This report is organized as follows:\n",
    "\n",
    "1. **Data exploration**\n",
    "1. **(brief) Literature review**\n",
    "1. **Experiment design**\n",
    "1. **Implementation details**\n",
    "1. **Results**\n",
    "1. **Conclusions**\n",
    "\n"
   ]
  },
  {
   "cell_type": "markdown",
   "metadata": {},
   "source": [
    "## Data exploration"
   ]
  },
  {
   "cell_type": "markdown",
   "metadata": {},
   "source": [
    "## Literature review"
   ]
  },
  {
   "cell_type": "markdown",
   "metadata": {},
   "source": [
    "https://arxiv.org/pdf/1812.02316.pdf"
   ]
  },
  {
   "cell_type": "markdown",
   "metadata": {},
   "source": [
    "#### Imports"
   ]
  },
  {
   "cell_type": "code",
   "execution_count": 3,
   "metadata": {
    "slideshow": {
     "slide_type": "skip"
    }
   },
   "outputs": [],
   "source": [
    "%matplotlib inline"
   ]
  },
  {
   "cell_type": "code",
   "execution_count": 4,
   "metadata": {
    "slideshow": {
     "slide_type": "skip"
    }
   },
   "outputs": [],
   "source": [
    "import pandas as pd"
   ]
  },
  {
   "cell_type": "code",
   "execution_count": 5,
   "metadata": {},
   "outputs": [],
   "source": [
    "import matplotlib.pyplot as plt"
   ]
  },
  {
   "cell_type": "code",
   "execution_count": 6,
   "metadata": {},
   "outputs": [],
   "source": [
    "import os"
   ]
  },
  {
   "cell_type": "code",
   "execution_count": 7,
   "metadata": {},
   "outputs": [],
   "source": [
    "import numpy as np"
   ]
  },
  {
   "cell_type": "markdown",
   "metadata": {},
   "source": [
    "Set up folders"
   ]
  },
  {
   "cell_type": "code",
   "execution_count": 8,
   "metadata": {},
   "outputs": [],
   "source": [
    "DATA_FOLDER = \"../data\"\n",
    "ANNOTATION_FILE_NAME = \"HAM10000_metadata.csv\"\n",
    "LABEL_COLUMN = 'dx'"
   ]
  },
  {
   "cell_type": "markdown",
   "metadata": {
    "slideshow": {
     "slide_type": "slide"
    }
   },
   "source": [
    "### Read annotations"
   ]
  },
  {
   "cell_type": "code",
   "execution_count": 9,
   "metadata": {},
   "outputs": [],
   "source": [
    "annotation_df = pd.read_csv(os.path.join(DATA_FOLDER, ANNOTATION_FILE_NAME))"
   ]
  },
  {
   "cell_type": "code",
   "execution_count": 10,
   "metadata": {},
   "outputs": [
    {
     "data": {
      "text/plain": [
       "Index(['lesion_id', 'image_id', 'dx', 'dx_type', 'age', 'sex', 'localization'], dtype='object')"
      ]
     },
     "execution_count": 10,
     "metadata": {},
     "output_type": "execute_result"
    }
   ],
   "source": [
    "annotation_df.columns"
   ]
  },
  {
   "cell_type": "code",
   "execution_count": 25,
   "metadata": {},
   "outputs": [
    {
     "data": {
      "text/html": [
       "<div>\n",
       "<style scoped>\n",
       "    .dataframe tbody tr th:only-of-type {\n",
       "        vertical-align: middle;\n",
       "    }\n",
       "\n",
       "    .dataframe tbody tr th {\n",
       "        vertical-align: top;\n",
       "    }\n",
       "\n",
       "    .dataframe thead th {\n",
       "        text-align: right;\n",
       "    }\n",
       "</style>\n",
       "<table border=\"1\" class=\"dataframe\">\n",
       "  <thead>\n",
       "    <tr style=\"text-align: right;\">\n",
       "      <th></th>\n",
       "      <th>lesion_id</th>\n",
       "      <th>image_id</th>\n",
       "      <th>dx</th>\n",
       "      <th>dx_type</th>\n",
       "      <th>age</th>\n",
       "      <th>sex</th>\n",
       "      <th>localization</th>\n",
       "    </tr>\n",
       "  </thead>\n",
       "  <tbody>\n",
       "    <tr>\n",
       "      <td>2364</td>\n",
       "      <td>HAM_0003862</td>\n",
       "      <td>ISIC_0032775</td>\n",
       "      <td>vasc</td>\n",
       "      <td>histo</td>\n",
       "      <td>45.0</td>\n",
       "      <td>male</td>\n",
       "      <td>upper extremity</td>\n",
       "    </tr>\n",
       "    <tr>\n",
       "      <td>9867</td>\n",
       "      <td>HAM_0000688</td>\n",
       "      <td>ISIC_0026720</td>\n",
       "      <td>akiec</td>\n",
       "      <td>histo</td>\n",
       "      <td>75.0</td>\n",
       "      <td>male</td>\n",
       "      <td>lower extremity</td>\n",
       "    </tr>\n",
       "    <tr>\n",
       "      <td>6962</td>\n",
       "      <td>HAM_0000230</td>\n",
       "      <td>ISIC_0032150</td>\n",
       "      <td>nv</td>\n",
       "      <td>histo</td>\n",
       "      <td>50.0</td>\n",
       "      <td>female</td>\n",
       "      <td>lower extremity</td>\n",
       "    </tr>\n",
       "    <tr>\n",
       "      <td>875</td>\n",
       "      <td>HAM_0003881</td>\n",
       "      <td>ISIC_0031893</td>\n",
       "      <td>bkl</td>\n",
       "      <td>consensus</td>\n",
       "      <td>70.0</td>\n",
       "      <td>female</td>\n",
       "      <td>face</td>\n",
       "    </tr>\n",
       "    <tr>\n",
       "      <td>5479</td>\n",
       "      <td>HAM_0003292</td>\n",
       "      <td>ISIC_0029173</td>\n",
       "      <td>nv</td>\n",
       "      <td>follow_up</td>\n",
       "      <td>65.0</td>\n",
       "      <td>male</td>\n",
       "      <td>abdomen</td>\n",
       "    </tr>\n",
       "    <tr>\n",
       "      <td>560</td>\n",
       "      <td>HAM_0006240</td>\n",
       "      <td>ISIC_0030188</td>\n",
       "      <td>bkl</td>\n",
       "      <td>histo</td>\n",
       "      <td>80.0</td>\n",
       "      <td>male</td>\n",
       "      <td>upper extremity</td>\n",
       "    </tr>\n",
       "    <tr>\n",
       "      <td>4524</td>\n",
       "      <td>HAM_0004626</td>\n",
       "      <td>ISIC_0026904</td>\n",
       "      <td>nv</td>\n",
       "      <td>follow_up</td>\n",
       "      <td>55.0</td>\n",
       "      <td>male</td>\n",
       "      <td>upper extremity</td>\n",
       "    </tr>\n",
       "    <tr>\n",
       "      <td>1800</td>\n",
       "      <td>HAM_0002841</td>\n",
       "      <td>ISIC_0032982</td>\n",
       "      <td>mel</td>\n",
       "      <td>histo</td>\n",
       "      <td>20.0</td>\n",
       "      <td>male</td>\n",
       "      <td>back</td>\n",
       "    </tr>\n",
       "    <tr>\n",
       "      <td>5335</td>\n",
       "      <td>HAM_0002270</td>\n",
       "      <td>ISIC_0031607</td>\n",
       "      <td>nv</td>\n",
       "      <td>follow_up</td>\n",
       "      <td>45.0</td>\n",
       "      <td>female</td>\n",
       "      <td>lower extremity</td>\n",
       "    </tr>\n",
       "    <tr>\n",
       "      <td>1533</td>\n",
       "      <td>HAM_0000321</td>\n",
       "      <td>ISIC_0032733</td>\n",
       "      <td>mel</td>\n",
       "      <td>histo</td>\n",
       "      <td>70.0</td>\n",
       "      <td>male</td>\n",
       "      <td>back</td>\n",
       "    </tr>\n",
       "    <tr>\n",
       "      <td>1080</td>\n",
       "      <td>HAM_0000105</td>\n",
       "      <td>ISIC_0031362</td>\n",
       "      <td>bkl</td>\n",
       "      <td>consensus</td>\n",
       "      <td>70.0</td>\n",
       "      <td>female</td>\n",
       "      <td>trunk</td>\n",
       "    </tr>\n",
       "    <tr>\n",
       "      <td>5763</td>\n",
       "      <td>HAM_0005630</td>\n",
       "      <td>ISIC_0025864</td>\n",
       "      <td>nv</td>\n",
       "      <td>follow_up</td>\n",
       "      <td>45.0</td>\n",
       "      <td>female</td>\n",
       "      <td>lower extremity</td>\n",
       "    </tr>\n",
       "    <tr>\n",
       "      <td>6967</td>\n",
       "      <td>HAM_0007553</td>\n",
       "      <td>ISIC_0031676</td>\n",
       "      <td>nv</td>\n",
       "      <td>histo</td>\n",
       "      <td>40.0</td>\n",
       "      <td>male</td>\n",
       "      <td>back</td>\n",
       "    </tr>\n",
       "    <tr>\n",
       "      <td>3673</td>\n",
       "      <td>HAM_0006382</td>\n",
       "      <td>ISIC_0029883</td>\n",
       "      <td>nv</td>\n",
       "      <td>follow_up</td>\n",
       "      <td>45.0</td>\n",
       "      <td>female</td>\n",
       "      <td>upper extremity</td>\n",
       "    </tr>\n",
       "    <tr>\n",
       "      <td>2954</td>\n",
       "      <td>HAM_0005837</td>\n",
       "      <td>ISIC_0028653</td>\n",
       "      <td>bcc</td>\n",
       "      <td>histo</td>\n",
       "      <td>50.0</td>\n",
       "      <td>female</td>\n",
       "      <td>chest</td>\n",
       "    </tr>\n",
       "  </tbody>\n",
       "</table>\n",
       "</div>"
      ],
      "text/plain": [
       "        lesion_id      image_id     dx    dx_type   age     sex  \\\n",
       "2364  HAM_0003862  ISIC_0032775   vasc      histo  45.0    male   \n",
       "9867  HAM_0000688  ISIC_0026720  akiec      histo  75.0    male   \n",
       "6962  HAM_0000230  ISIC_0032150     nv      histo  50.0  female   \n",
       "875   HAM_0003881  ISIC_0031893    bkl  consensus  70.0  female   \n",
       "5479  HAM_0003292  ISIC_0029173     nv  follow_up  65.0    male   \n",
       "560   HAM_0006240  ISIC_0030188    bkl      histo  80.0    male   \n",
       "4524  HAM_0004626  ISIC_0026904     nv  follow_up  55.0    male   \n",
       "1800  HAM_0002841  ISIC_0032982    mel      histo  20.0    male   \n",
       "5335  HAM_0002270  ISIC_0031607     nv  follow_up  45.0  female   \n",
       "1533  HAM_0000321  ISIC_0032733    mel      histo  70.0    male   \n",
       "1080  HAM_0000105  ISIC_0031362    bkl  consensus  70.0  female   \n",
       "5763  HAM_0005630  ISIC_0025864     nv  follow_up  45.0  female   \n",
       "6967  HAM_0007553  ISIC_0031676     nv      histo  40.0    male   \n",
       "3673  HAM_0006382  ISIC_0029883     nv  follow_up  45.0  female   \n",
       "2954  HAM_0005837  ISIC_0028653    bcc      histo  50.0  female   \n",
       "\n",
       "         localization  \n",
       "2364  upper extremity  \n",
       "9867  lower extremity  \n",
       "6962  lower extremity  \n",
       "875              face  \n",
       "5479          abdomen  \n",
       "560   upper extremity  \n",
       "4524  upper extremity  \n",
       "1800             back  \n",
       "5335  lower extremity  \n",
       "1533             back  \n",
       "1080            trunk  \n",
       "5763  lower extremity  \n",
       "6967             back  \n",
       "3673  upper extremity  \n",
       "2954            chest  "
      ]
     },
     "execution_count": 25,
     "metadata": {},
     "output_type": "execute_result"
    }
   ],
   "source": [
    "# Use sample to get a bit more varied set of examples\n",
    "annotation_df.sample(frac=1.0).head(n=15)"
   ]
  },
  {
   "cell_type": "code",
   "execution_count": 9,
   "metadata": {
    "slideshow": {
     "slide_type": "slide"
    }
   },
   "outputs": [
    {
     "data": {
      "text/plain": [
       "<matplotlib.axes._subplots.AxesSubplot at 0x7f17fa59f9e8>"
      ]
     },
     "execution_count": 9,
     "metadata": {},
     "output_type": "execute_result"
    },
    {
     "data": {
      "image/png": "[encoded data removed]",
      "text/plain": [
       "<Figure size 1080x576 with 1 Axes>"
      ]
     },
     "metadata": {
      "needs_background": "light"
     },
     "output_type": "display_data"
    }
   ],
   "source": [
    "plt.figure(figsize=(15,8))\n",
    "annotation_df.groupby(LABEL_COLUMN).count()['sex'].sort_values().plot(kind='bar')"
   ]
  },
  {
   "cell_type": "code",
   "execution_count": 10,
   "metadata": {},
   "outputs": [
    {
     "data": {
      "text/html": [
       "<div>\n",
       "<style scoped>\n",
       "    .dataframe tbody tr th:only-of-type {\n",
       "        vertical-align: middle;\n",
       "    }\n",
       "\n",
       "    .dataframe tbody tr th {\n",
       "        vertical-align: top;\n",
       "    }\n",
       "\n",
       "    .dataframe thead th {\n",
       "        text-align: right;\n",
       "    }\n",
       "</style>\n",
       "<table border=\"1\" class=\"dataframe\">\n",
       "  <thead>\n",
       "    <tr style=\"text-align: right;\">\n",
       "      <th></th>\n",
       "      <th>count</th>\n",
       "      <th>mean</th>\n",
       "      <th>std</th>\n",
       "      <th>min</th>\n",
       "      <th>25%</th>\n",
       "      <th>50%</th>\n",
       "      <th>75%</th>\n",
       "      <th>max</th>\n",
       "    </tr>\n",
       "    <tr>\n",
       "      <th>dx</th>\n",
       "      <th></th>\n",
       "      <th></th>\n",
       "      <th></th>\n",
       "      <th></th>\n",
       "      <th></th>\n",
       "      <th></th>\n",
       "      <th></th>\n",
       "      <th></th>\n",
       "    </tr>\n",
       "  </thead>\n",
       "  <tbody>\n",
       "    <tr>\n",
       "      <td>akiec</td>\n",
       "      <td>327.0</td>\n",
       "      <td>66.529052</td>\n",
       "      <td>11.476232</td>\n",
       "      <td>30.0</td>\n",
       "      <td>60.0</td>\n",
       "      <td>70.0</td>\n",
       "      <td>75.0</td>\n",
       "      <td>85.0</td>\n",
       "    </tr>\n",
       "    <tr>\n",
       "      <td>bcc</td>\n",
       "      <td>514.0</td>\n",
       "      <td>66.828794</td>\n",
       "      <td>13.656959</td>\n",
       "      <td>20.0</td>\n",
       "      <td>60.0</td>\n",
       "      <td>70.0</td>\n",
       "      <td>75.0</td>\n",
       "      <td>85.0</td>\n",
       "    </tr>\n",
       "    <tr>\n",
       "      <td>bkl</td>\n",
       "      <td>1089.0</td>\n",
       "      <td>64.283747</td>\n",
       "      <td>14.120715</td>\n",
       "      <td>0.0</td>\n",
       "      <td>55.0</td>\n",
       "      <td>65.0</td>\n",
       "      <td>75.0</td>\n",
       "      <td>85.0</td>\n",
       "    </tr>\n",
       "    <tr>\n",
       "      <td>df</td>\n",
       "      <td>115.0</td>\n",
       "      <td>53.043478</td>\n",
       "      <td>13.551326</td>\n",
       "      <td>25.0</td>\n",
       "      <td>45.0</td>\n",
       "      <td>50.0</td>\n",
       "      <td>65.0</td>\n",
       "      <td>80.0</td>\n",
       "    </tr>\n",
       "    <tr>\n",
       "      <td>mel</td>\n",
       "      <td>1111.0</td>\n",
       "      <td>60.679568</td>\n",
       "      <td>15.189847</td>\n",
       "      <td>5.0</td>\n",
       "      <td>50.0</td>\n",
       "      <td>60.0</td>\n",
       "      <td>70.0</td>\n",
       "      <td>85.0</td>\n",
       "    </tr>\n",
       "    <tr>\n",
       "      <td>nv</td>\n",
       "      <td>6660.0</td>\n",
       "      <td>46.477477</td>\n",
       "      <td>15.183275</td>\n",
       "      <td>0.0</td>\n",
       "      <td>35.0</td>\n",
       "      <td>45.0</td>\n",
       "      <td>55.0</td>\n",
       "      <td>85.0</td>\n",
       "    </tr>\n",
       "    <tr>\n",
       "      <td>vasc</td>\n",
       "      <td>142.0</td>\n",
       "      <td>51.373239</td>\n",
       "      <td>21.644651</td>\n",
       "      <td>0.0</td>\n",
       "      <td>40.0</td>\n",
       "      <td>55.0</td>\n",
       "      <td>70.0</td>\n",
       "      <td>85.0</td>\n",
       "    </tr>\n",
       "  </tbody>\n",
       "</table>\n",
       "</div>"
      ],
      "text/plain": [
       "        count       mean        std   min   25%   50%   75%   max\n",
       "dx                                                               \n",
       "akiec   327.0  66.529052  11.476232  30.0  60.0  70.0  75.0  85.0\n",
       "bcc     514.0  66.828794  13.656959  20.0  60.0  70.0  75.0  85.0\n",
       "bkl    1089.0  64.283747  14.120715   0.0  55.0  65.0  75.0  85.0\n",
       "df      115.0  53.043478  13.551326  25.0  45.0  50.0  65.0  80.0\n",
       "mel    1111.0  60.679568  15.189847   5.0  50.0  60.0  70.0  85.0\n",
       "nv     6660.0  46.477477  15.183275   0.0  35.0  45.0  55.0  85.0\n",
       "vasc    142.0  51.373239  21.644651   0.0  40.0  55.0  70.0  85.0"
      ]
     },
     "execution_count": 10,
     "metadata": {},
     "output_type": "execute_result"
    }
   ],
   "source": [
    "annotation_df.groupby(LABEL_COLUMN)['age'].describe()"
   ]
  },
  {
   "cell_type": "markdown",
   "metadata": {},
   "source": [
    "### View sample images"
   ]
  },
  {
   "cell_type": "code",
   "execution_count": 23,
   "metadata": {},
   "outputs": [],
   "source": [
    "# sample_image = plt.imread(\"../lesions.png\")\n",
    "# plt.figure(figsize=(15,8))\n",
    "# plt.axis('off')\n",
    "# plt.imshow(sample_image);"
   ]
  },
  {
   "cell_type": "markdown",
   "metadata": {},
   "source": [
    "## Experiment design"
   ]
  },
  {
   "cell_type": "markdown",
   "metadata": {},
   "source": [
    "### Monitoring experiments"
   ]
  },
  {
   "cell_type": "markdown",
   "metadata": {},
   "source": [
    "### Metrics"
   ]
  },
  {
   "cell_type": "markdown",
   "metadata": {},
   "source": [
    "## Implementation details"
   ]
  },
  {
   "cell_type": "markdown",
   "metadata": {},
   "source": [
    "## Results"
   ]
  },
  {
   "cell_type": "markdown",
   "metadata": {},
   "source": [
    "## Conclusions"
   ]
  },
  {
   "cell_type": "markdown",
   "metadata": {},
   "source": [
    "### Future work"
   ]
  },
  {
   "cell_type": "markdown",
   "metadata": {},
   "source": [
    "* Use additional data from other datasets\n",
    "* Include additional information (age) however be sure not to fixate on that..."
   ]
  },
  {
   "cell_type": "code",
   "execution_count": null,
   "metadata": {},
   "outputs": [],
   "source": []
  }
 ],
 "metadata": {
  "kernelspec": {
   "display_name": "Python 3",
   "language": "python",
   "name": "python3"
  },
  "language_info": {
   "codemirror_mode": {
    "name": "ipython",
    "version": 3
   },
   "file_extension": ".py",
   "mimetype": "text/x-python",
   "name": "python",
   "nbconvert_exporter": "python",
   "pygments_lexer": "ipython3",
   "version": "3.6.9"
  }
 },
 "nbformat": 4,
 "nbformat_minor": 2
}
